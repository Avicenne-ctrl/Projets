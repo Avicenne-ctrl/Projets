{
 "cells": [
  {
   "cell_type": "markdown",
   "id": "10e27256",
   "metadata": {},
   "source": [
    "# Importation des librairies "
   ]
  },
  {
   "cell_type": "code",
   "execution_count": 212,
   "id": "c2b636bd",
   "metadata": {},
   "outputs": [],
   "source": [
    "from sklearn.preprocessing import LabelEncoder, MinMaxScaler, StandardScaler\n",
    "import seaborn as sb\n",
    "import matplotlib.pyplot as plt\n",
    "import pandas as pd\n",
    "import numpy as np\n",
    "from sklearn.model_selection import train_test_split\n",
    "from sklearn.linear_model import LogisticRegression\n",
    "from sklearn.metrics import accuracy_score\n",
    "### arbre de décision\n",
    "from sklearn.tree import DecisionTreeClassifier\n",
    "from sklearn.metrics import accuracy_score, confusion_matrix, classification_report\n",
    "from sklearn.model_selection import cross_val_score\n",
    "from tensorflow import keras\n",
    "from keras.models import Sequential\n",
    "from keras.layers import Dense, Flatten\n",
    "from keras.layers import LSTM\n",
    "from keras.layers import Dropout\n",
    "from sklearn.ensemble import RandomForestClassifier"
   ]
  },
  {
   "cell_type": "markdown",
   "id": "58c7a9d7",
   "metadata": {},
   "source": [
    "# Importation des datasets"
   ]
  },
  {
   "cell_type": "code",
   "execution_count": 245,
   "id": "56b941e0",
   "metadata": {},
   "outputs": [],
   "source": [
    "##importer les datasets\n",
    "\n",
    "train = pd.read_csv('/Users/avicenne/Documents/python/kaggle/titanic/train.csv')\n",
    "test = pd.read_csv('/Users/avicenne/Documents/python/kaggle/titanic/test.csv')\n"
   ]
  },
  {
   "cell_type": "markdown",
   "id": "e9972d5c",
   "metadata": {},
   "source": [
    "# On observe les données"
   ]
  },
  {
   "cell_type": "code",
   "execution_count": 214,
   "id": "ab15129a",
   "metadata": {},
   "outputs": [
    {
     "name": "stdout",
     "output_type": "stream",
     "text": [
      "891\n"
     ]
    },
    {
     "data": {
      "text/html": [
       "<div>\n",
       "<style scoped>\n",
       "    .dataframe tbody tr th:only-of-type {\n",
       "        vertical-align: middle;\n",
       "    }\n",
       "\n",
       "    .dataframe tbody tr th {\n",
       "        vertical-align: top;\n",
       "    }\n",
       "\n",
       "    .dataframe thead th {\n",
       "        text-align: right;\n",
       "    }\n",
       "</style>\n",
       "<table border=\"1\" class=\"dataframe\">\n",
       "  <thead>\n",
       "    <tr style=\"text-align: right;\">\n",
       "      <th></th>\n",
       "      <th>PassengerId</th>\n",
       "      <th>Survived</th>\n",
       "      <th>Pclass</th>\n",
       "      <th>Name</th>\n",
       "      <th>Sex</th>\n",
       "      <th>Age</th>\n",
       "      <th>SibSp</th>\n",
       "      <th>Parch</th>\n",
       "      <th>Ticket</th>\n",
       "      <th>Fare</th>\n",
       "      <th>Cabin</th>\n",
       "      <th>Embarked</th>\n",
       "    </tr>\n",
       "  </thead>\n",
       "  <tbody>\n",
       "    <tr>\n",
       "      <th>0</th>\n",
       "      <td>1</td>\n",
       "      <td>0</td>\n",
       "      <td>3</td>\n",
       "      <td>Braund, Mr. Owen Harris</td>\n",
       "      <td>male</td>\n",
       "      <td>22.0</td>\n",
       "      <td>1</td>\n",
       "      <td>0</td>\n",
       "      <td>A/5 21171</td>\n",
       "      <td>7.2500</td>\n",
       "      <td>NaN</td>\n",
       "      <td>S</td>\n",
       "    </tr>\n",
       "    <tr>\n",
       "      <th>1</th>\n",
       "      <td>2</td>\n",
       "      <td>1</td>\n",
       "      <td>1</td>\n",
       "      <td>Cumings, Mrs. John Bradley (Florence Briggs Th...</td>\n",
       "      <td>female</td>\n",
       "      <td>38.0</td>\n",
       "      <td>1</td>\n",
       "      <td>0</td>\n",
       "      <td>PC 17599</td>\n",
       "      <td>71.2833</td>\n",
       "      <td>C85</td>\n",
       "      <td>C</td>\n",
       "    </tr>\n",
       "    <tr>\n",
       "      <th>2</th>\n",
       "      <td>3</td>\n",
       "      <td>1</td>\n",
       "      <td>3</td>\n",
       "      <td>Heikkinen, Miss. Laina</td>\n",
       "      <td>female</td>\n",
       "      <td>26.0</td>\n",
       "      <td>0</td>\n",
       "      <td>0</td>\n",
       "      <td>STON/O2. 3101282</td>\n",
       "      <td>7.9250</td>\n",
       "      <td>NaN</td>\n",
       "      <td>S</td>\n",
       "    </tr>\n",
       "    <tr>\n",
       "      <th>3</th>\n",
       "      <td>4</td>\n",
       "      <td>1</td>\n",
       "      <td>1</td>\n",
       "      <td>Futrelle, Mrs. Jacques Heath (Lily May Peel)</td>\n",
       "      <td>female</td>\n",
       "      <td>35.0</td>\n",
       "      <td>1</td>\n",
       "      <td>0</td>\n",
       "      <td>113803</td>\n",
       "      <td>53.1000</td>\n",
       "      <td>C123</td>\n",
       "      <td>S</td>\n",
       "    </tr>\n",
       "    <tr>\n",
       "      <th>4</th>\n",
       "      <td>5</td>\n",
       "      <td>0</td>\n",
       "      <td>3</td>\n",
       "      <td>Allen, Mr. William Henry</td>\n",
       "      <td>male</td>\n",
       "      <td>35.0</td>\n",
       "      <td>0</td>\n",
       "      <td>0</td>\n",
       "      <td>373450</td>\n",
       "      <td>8.0500</td>\n",
       "      <td>NaN</td>\n",
       "      <td>S</td>\n",
       "    </tr>\n",
       "  </tbody>\n",
       "</table>\n",
       "</div>"
      ],
      "text/plain": [
       "   PassengerId  Survived  Pclass  \\\n",
       "0            1         0       3   \n",
       "1            2         1       1   \n",
       "2            3         1       3   \n",
       "3            4         1       1   \n",
       "4            5         0       3   \n",
       "\n",
       "                                                Name     Sex   Age  SibSp  \\\n",
       "0                            Braund, Mr. Owen Harris    male  22.0      1   \n",
       "1  Cumings, Mrs. John Bradley (Florence Briggs Th...  female  38.0      1   \n",
       "2                             Heikkinen, Miss. Laina  female  26.0      0   \n",
       "3       Futrelle, Mrs. Jacques Heath (Lily May Peel)  female  35.0      1   \n",
       "4                           Allen, Mr. William Henry    male  35.0      0   \n",
       "\n",
       "   Parch            Ticket     Fare Cabin Embarked  \n",
       "0      0         A/5 21171   7.2500   NaN        S  \n",
       "1      0          PC 17599  71.2833   C85        C  \n",
       "2      0  STON/O2. 3101282   7.9250   NaN        S  \n",
       "3      0            113803  53.1000  C123        S  \n",
       "4      0            373450   8.0500   NaN        S  "
      ]
     },
     "execution_count": 214,
     "metadata": {},
     "output_type": "execute_result"
    }
   ],
   "source": [
    "print(len(train))\n",
    "train.head()"
   ]
  },
  {
   "cell_type": "code",
   "execution_count": 215,
   "id": "b899b14f",
   "metadata": {},
   "outputs": [
    {
     "data": {
      "text/plain": [
       "PassengerId    0.000000\n",
       "Survived       0.000000\n",
       "Pclass         0.000000\n",
       "Name           0.000000\n",
       "Sex            0.000000\n",
       "Age            0.198653\n",
       "SibSp          0.000000\n",
       "Parch          0.000000\n",
       "Ticket         0.000000\n",
       "Fare           0.000000\n",
       "Cabin          0.771044\n",
       "Embarked       0.002245\n",
       "dtype: float64"
      ]
     },
     "execution_count": 215,
     "metadata": {},
     "output_type": "execute_result"
    }
   ],
   "source": [
    "## pourcentage des valeurs manquantes par colonne\n",
    "train.isna().sum()/len(train)"
   ]
  },
  {
   "cell_type": "code",
   "execution_count": 89,
   "id": "ae1ab17a",
   "metadata": {},
   "outputs": [
    {
     "data": {
      "text/plain": [
       "681"
      ]
     },
     "execution_count": 89,
     "metadata": {},
     "output_type": "execute_result"
    }
   ],
   "source": [
    "len(train.Ticket.unique())"
   ]
  },
  {
   "cell_type": "code",
   "execution_count": 90,
   "id": "a1cac9ef",
   "metadata": {},
   "outputs": [
    {
     "data": {
      "text/plain": [
       "347082      7\n",
       "CA. 2343    7\n",
       "1601        7\n",
       "3101295     6\n",
       "CA 2144     6\n",
       "           ..\n",
       "9234        1\n",
       "19988       1\n",
       "2693        1\n",
       "PC 17612    1\n",
       "370376      1\n",
       "Name: Ticket, Length: 681, dtype: int64"
      ]
     },
     "execution_count": 90,
     "metadata": {},
     "output_type": "execute_result"
    }
   ],
   "source": [
    "train.Ticket.value_counts()"
   ]
  },
  {
   "cell_type": "code",
   "execution_count": 216,
   "id": "eb19a04b",
   "metadata": {},
   "outputs": [
    {
     "name": "stdout",
     "output_type": "stream",
     "text": [
      "3    301\n",
      "2    183\n",
      "1    146\n",
      "P     65\n",
      "S     65\n",
      "C     47\n",
      "A     29\n",
      "W     13\n",
      "4     10\n",
      "7      9\n",
      "F      7\n",
      "6      6\n",
      "L      4\n",
      "5      3\n",
      "8      2\n",
      "9      1\n",
      "Name: Ticket_Prefix, dtype: int64\n",
      "3    128\n",
      "2     95\n",
      "1     64\n",
      "S     33\n",
      "P     33\n",
      "C     30\n",
      "A     13\n",
      "W      6\n",
      "F      6\n",
      "7      4\n",
      "6      3\n",
      "4      1\n",
      "9      1\n",
      "L      1\n",
      "Name: Ticket_Prefix, dtype: int64\n"
     ]
    }
   ],
   "source": [
    "## on regroupe les prefixes des tickets pour observer une éventuelle corrélation\n",
    "\n",
    "#----------------------- Train -------------------------------------------#\n",
    "\n",
    "train['Ticket_Prefix'] = train['Ticket'].apply(lambda x: x[:1])  # Ajustez selon le critère souhaité\n",
    "print(train['Ticket_Prefix'].value_counts())\n",
    "\n",
    "#----------------------- Test -------------------------------------------#\n",
    "\n",
    "test['Ticket_Prefix'] = test['Ticket'].apply(lambda x: x[:1])  # Ajustez selon le critère souhaité\n",
    "print(test['Ticket_Prefix'].value_counts())"
   ]
  },
  {
   "cell_type": "code",
   "execution_count": 217,
   "id": "a92698df",
   "metadata": {},
   "outputs": [
    {
     "data": {
      "text/plain": [
       "0    61.616162\n",
       "1    38.383838\n",
       "Name: Survived, dtype: float64"
      ]
     },
     "execution_count": 217,
     "metadata": {},
     "output_type": "execute_result"
    }
   ],
   "source": [
    "## pourcentage de personnes ayant survécus\n",
    "\n",
    "train.Survived.value_counts()/len(train)*100"
   ]
  },
  {
   "cell_type": "markdown",
   "id": "370c47a6",
   "metadata": {},
   "source": [
    "# On va gérer les valeurs : Age, Cabin, Embarked"
   ]
  },
  {
   "cell_type": "code",
   "execution_count": 219,
   "id": "f9e62c4e",
   "metadata": {},
   "outputs": [
    {
     "name": "stdout",
     "output_type": "stream",
     "text": [
      "False\n",
      "False\n"
     ]
    }
   ],
   "source": [
    "## pour l'âge on remplace par la moyenne\n",
    "\n",
    "#----------------------- Train -------------------------------------------#\n",
    "train.Age = train.Age.fillna(train.Age.mean())\n",
    "print(train.Age.isna().any())\n",
    "\n",
    "#----------------------- Test -------------------------------------------#\n",
    "test.Age = test.Age.fillna(test.Age.mean())\n",
    "print(test.Age.isna().any())\n"
   ]
  },
  {
   "cell_type": "code",
   "execution_count": 271,
   "id": "5a377736",
   "metadata": {},
   "outputs": [],
   "source": [
    "def categ_age(x):   #le max est autour de 80 ans\n",
    "    for i in range(20):\n",
    "        if i*5 < x <=(i+1)*5:\n",
    "            return i\n",
    "        \n",
    "        \n",
    "def categ_fare(x):  #le max est de 512\n",
    "    for i in range(100):\n",
    "        if i*20 <= x <(i+1)*20:\n",
    "            return i"
   ]
  },
  {
   "cell_type": "code",
   "execution_count": 250,
   "id": "9f04cf53",
   "metadata": {},
   "outputs": [
    {
     "name": "stdout",
     "output_type": "stream",
     "text": [
      "4.0     122\n",
      "5.0     108\n",
      "3.0      96\n",
      "6.0      88\n",
      "7.0      67\n",
      "8.0      47\n",
      "0.0      44\n",
      "9.0      39\n",
      "10.0     24\n",
      "1.0      20\n",
      "2.0      19\n",
      "11.0     18\n",
      "12.0     14\n",
      "14.0      4\n",
      "13.0      3\n",
      "15.0      1\n",
      "Name: age_cat, dtype: int64\n"
     ]
    }
   ],
   "source": [
    "## On crée des catégories pour les âges\n",
    "\n",
    "#----------------------- Train -------------------------------------------#\n",
    "\n",
    "train['age_cat'] = train.Age.apply(lambda x : categ_age(x))\n",
    "\n",
    "#----------------------- Test -------------------------------------------#\n",
    "\n",
    "test['age_cat'] = test.Age.apply(lambda x : categ_age(x))\n",
    "\n",
    "print(train.age_cat.value_counts())"
   ]
  },
  {
   "cell_type": "code",
   "execution_count": 189,
   "id": "ff375dc0",
   "metadata": {},
   "outputs": [
    {
     "data": {
      "text/plain": [
       "<matplotlib.legend.Legend at 0x7fb152d15900>"
      ]
     },
     "execution_count": 189,
     "metadata": {},
     "output_type": "execute_result"
    },
    {
     "data": {
      "image/png": "[encoded data removed]",
      "text/plain": [
       "<Figure size 640x480 with 1 Axes>"
      ]
     },
     "metadata": {},
     "output_type": "display_data"
    }
   ],
   "source": [
    "### on observe la répartition des classes en fonction de Survived\n",
    "\n",
    "train[train.Survived == 1].age_cat.plot(kind = 'density')\n",
    "train[train.Survived == 0].age_cat.plot(kind = 'density')\n",
    "plt.legend(['survived', 'no survived'])"
   ]
  },
  {
   "cell_type": "code",
   "execution_count": 222,
   "id": "c8098430",
   "metadata": {},
   "outputs": [],
   "source": [
    "## De même pour Fare\n",
    "\n",
    "#----------------------- Train -------------------------------------------#\n",
    "\n",
    "train['fare_cat'] = train.Fare.apply(lambda x : categ_fare(x))\n",
    "\n",
    "#----------------------- Test -------------------------------------------#\n",
    "\n",
    "test['fare_cat'] = test.Fare.apply(lambda x : categ_fare(x))\n"
   ]
  },
  {
   "cell_type": "code",
   "execution_count": 191,
   "id": "6293f4a7",
   "metadata": {},
   "outputs": [
    {
     "data": {
      "text/plain": [
       "<matplotlib.legend.Legend at 0x7fb152d3c1c0>"
      ]
     },
     "execution_count": 191,
     "metadata": {},
     "output_type": "execute_result"
    },
    {
     "data": {
      "image/png": "[encoded data removed]",
      "text/plain": [
       "<Figure size 640x480 with 1 Axes>"
      ]
     },
     "metadata": {},
     "output_type": "display_data"
    }
   ],
   "source": [
    "### on observe la répartition des classes en fonction de Survived\n",
    "\n",
    "train[train.Survived == 1].fare_cat.plot(kind = 'density')\n",
    "train[train.Survived == 0].fare_cat.plot(kind = 'density')\n",
    "plt.legend(['survived', 'no survived'])"
   ]
  },
  {
   "cell_type": "code",
   "execution_count": 158,
   "id": "f6667d80",
   "metadata": {},
   "outputs": [
    {
     "data": {
      "image/png": "[encoded data removed]",
      "text/plain": [
       "<Figure size 640x480 with 2 Axes>"
      ]
     },
     "metadata": {},
     "output_type": "display_data"
    }
   ],
   "source": [
    "plt.figure()\n",
    "\n",
    "plt.subplot(1, 2, 1)\n",
    "sb.set_palette(\"husl\")  # Choix de la palette de couleurs\n",
    "(train[train.Survived == 0].Embarked.value_counts()/len(train)).plot(kind = 'bar')\n",
    "plt.title('Répartition des non survivants')\n",
    "plt.xlabel('Classe Embarked')\n",
    "plt.ylabel('Nombre de passagers en pourcentage')\n",
    "\n",
    "plt.subplot(1, 2, 2)\n",
    "(train[train.Survived == 1].Embarked.value_counts()/len(train)).plot(kind = 'bar')\n",
    "plt.title('Répartition des survivants')\n",
    "plt.xlabel('Classe Embarked')\n",
    "plt.ylabel('Nombre de passagers en pourcentage')\n",
    "\n",
    "plt.show()"
   ]
  },
  {
   "cell_type": "code",
   "execution_count": 223,
   "id": "f462d9d1",
   "metadata": {},
   "outputs": [
    {
     "name": "stdout",
     "output_type": "stream",
     "text": [
      "S    644\n",
      "C    168\n",
      "Q     77\n",
      "Name: Embarked, dtype: int64\n",
      "est-ce qu'il reste des valeurs manquantes : False\n",
      "S    270\n",
      "C    102\n",
      "Q     46\n",
      "Name: Embarked, dtype: int64\n",
      "est-ce qu'il reste des valeurs manquantes : False\n"
     ]
    }
   ],
   "source": [
    "## pour Embarked on va remplacer par la valeur majoritaire, qui est : S\n",
    "\n",
    "#----------------------- Train -------------------------------------------#\n",
    "\n",
    "print(train.Embarked.value_counts())\n",
    "train.Embarked = train.Embarked.fillna('S')\n",
    "print(\"est-ce qu'il reste des valeurs manquantes :\", train.Embarked.isna().any())\n",
    "\n",
    "#----------------------- Test -------------------------------------------#\n",
    "\n",
    "print(test.Embarked.value_counts())\n",
    "test.Embarked = test.Embarked.fillna('S')\n",
    "print(\"est-ce qu'il reste des valeurs manquantes :\", test.Embarked.isna().any())\n"
   ]
  },
  {
   "cell_type": "code",
   "execution_count": 224,
   "id": "c9c9879a",
   "metadata": {},
   "outputs": [
    {
     "name": "stdout",
     "output_type": "stream",
     "text": [
      "n    687\n",
      "C     59\n",
      "B     47\n",
      "D     33\n",
      "E     32\n",
      "A     15\n",
      "F     13\n",
      "G      4\n",
      "T      1\n",
      "Name: Cabin_Prefix, dtype: int64\n",
      "n    327\n",
      "C     35\n",
      "B     18\n",
      "D     13\n",
      "E      9\n",
      "F      8\n",
      "A      7\n",
      "G      1\n",
      "Name: Cabin_Prefix, dtype: int64\n"
     ]
    }
   ],
   "source": [
    "## on regroupe les prefixes des Cabin pour se concentrer sur une plus large distinction\n",
    "## valeurs de Cabin en float on transforme en str\n",
    "## attention les prefixes en N correspondent aux valeurs manquantes\n",
    "## on a beaucoup de valeurs manquantes on va laisser cette classe\n",
    "\n",
    "#------------------------------------------------------------------------------------------------------------------------------\n",
    "#----------------------- Train -------------------------------------------#\n",
    "\n",
    "train['Cabin_Prefix'] = train['Cabin'].apply(lambda x: str(x)[0])  # Ajustez selon le critère souhaité\n",
    "train['Cabin_Prefix'].value_counts()\n",
    "\n",
    "print(train.Cabin_Prefix.value_counts())\n",
    "\n",
    "#------------------------------------------------------------------------------------------------------------------------------\n",
    "#----------------------- Test -------------------------------------------#\n",
    "\n",
    "test['Cabin_Prefix'] = test['Cabin'].apply(lambda x: str(x)[0])  # Ajustez selon le critère souhaité\n",
    "test['Cabin_Prefix'].value_counts()\n",
    "\n",
    "print(test.Cabin_Prefix.value_counts())\n"
   ]
  },
  {
   "cell_type": "code",
   "execution_count": 98,
   "id": "3b20b3d9",
   "metadata": {},
   "outputs": [
    {
     "data": {
      "image/png": "[encoded data removed]",
      "text/plain": [
       "<Figure size 640x480 with 2 Axes>"
      ]
     },
     "metadata": {},
     "output_type": "display_data"
    }
   ],
   "source": [
    "plt.figure()\n",
    "\n",
    "plt.subplot(1, 2, 1)\n",
    "sb.set_palette(\"husl\")  # Choix de la palette de couleurs\n",
    "(train[train.Survived == 0].Cabin_Prefix.value_counts()/len(train)).plot(kind = 'bar')\n",
    "plt.title('Répartition des non survivants')\n",
    "plt.xlabel('Classe de la cabine (préfixe)')\n",
    "plt.ylabel('Nombre de passagers en pourcentage')\n",
    "\n",
    "plt.subplot(1, 2, 2)\n",
    "(train[train.Survived == 1].Cabin_Prefix.value_counts()/len(train)).plot(kind = 'bar')\n",
    "plt.title('Répartition des survivants')\n",
    "plt.xlabel('Classe de la cabine (préfixe)')\n",
    "plt.ylabel('Nombre de passagers en pourcentage')\n",
    "\n",
    "plt.show()"
   ]
  },
  {
   "cell_type": "code",
   "execution_count": 282,
   "id": "300fd8aa",
   "metadata": {},
   "outputs": [],
   "source": [
    "#----------------------- Train -------------------------------------------#\n",
    "\n",
    "train['age_cat'] = train.Age.apply(lambda x : categ_age(x))\n",
    "train['fare_cat'] = train.Fare.apply(lambda x : categ_fare(x))\n",
    "train['Ticket_Prefix'] = train['Ticket'].apply(lambda x: x[:1])  # Ajustez selon le critère souhaité\n",
    "train['Cabin_Prefix'] = train['Cabin'].apply(lambda x: str(x)[0])  # Ajustez selon le critère souhaité\n",
    "\n",
    "\n",
    "#----------------------- Test -------------------------------------------#\n",
    "\n",
    "test['age_cat'] = test.Age.apply(lambda x : categ_age(x))\n",
    "test['fare_cat'] = test.Fare.apply(lambda x : categ_fare(x))\n",
    "test['Ticket_Prefix'] = test['Ticket'].apply(lambda x: x[:1])  # Ajustez selon le critère souhaité\n",
    "test['Cabin_Prefix'] = test['Cabin'].apply(lambda x: str(x)[0])  # Ajustez selon le critère souhaité\n",
    "## on vérifie que les valeurs manquantes sont toujours telles quelles après la création de classe\n",
    "## sauf pour cabine on garde les valeurs inconnues comme une nouvelle classe\n",
    "\n",
    "train[train.Age.isna() == True].head()\n",
    "\n",
    "dropped = ['PassengerId', 'Name', 'Age', 'Fare', 'Ticket', 'Cabin']\n",
    "\n",
    "df_train = train.drop(dropped, axis = 1)\n",
    "df_test = test.drop(dropped, axis = 1)\n",
    "\n",
    "print(df_train.head())\n",
    "df_test.head()\n",
    "\n",
    "On va labeliser certaines colonnes sans toucher aux valeurs manquantes\n",
    "\n",
    "## Pour la suite on ne veut pas que les valeurs manquantes de Embarked soient string donc on les convertis\n",
    "\n",
    "df_train['Embarked'] = df_train['Embarked'].replace('nan', np.nan)\n",
    "print('valeurs manquantes ?:', df_train['Embarked'].isna().any())\n",
    "type(df_train[df_train['Embarked'].isna()]['Embarked'])\n",
    "\n",
    "## on entraîne notre encoder sur les données non nulles pour garder les valeurs manquantes\n",
    "\n",
    "knn_encode = LabelEncoder()\n",
    "\n",
    "need_labelize = ['Sex', 'Ticket_Prefix', 'Cabin_Prefix']\n",
    "    \n",
    "for lab in need_labelize:\n",
    "    print(\"variable à labeliser\", lab)\n",
    "    df_train[lab] = encode.fit_transform(df_train[lab].astype(str))\n",
    "    df_test[lab] = encode.transform(df_test[lab].astype(str))\n",
    "\n",
    "\n",
    "df_train['Embarked'] = encode.fit_transform(df_train['Embarked'])\n",
    "df_test['Embarked'] = encode.transform(df_test['Embarked'])\n",
    "# Récupérer les correspondances entre les labels et les classes d'origine\n",
    "label_to_class = dict(zip(encode.classes_, encode.transform(encode.classes_)))\n",
    "\n",
    "# Afficher les correspondances\n",
    "print(label_to_class)\n",
    "\n",
    "On récupère les labels de Embarked car les valeurs manquantes sont transformées, et on les récupères\n",
    "\n",
    "df_train['Embarked'] = df_train['Embarked'].replace(3, np.nan)\n",
    "df_test['Embarked'] = df_test['Embarked'].replace(3, np.nan)\n",
    "\n",
    "## on conserve bien les valeurs manquantes\n",
    "\n",
    "print(df_train.isna().any())\n",
    "print('valeurs manquantes Embarked :\\n', df_train.Embarked.isna().sum()/len(train))\n",
    "print('\\nvaleurs manquantes age_cat :\\n',df_train.age_cat.isna().sum()/len(train))\n",
    "\n",
    "# Question on entraîne sur train avec survived mais pas de survived dans test donc pb, or si on knn sans survived on perd une info et si on fit_transform séparemment pas même result\n",
    "\n",
    "# Utiliser KNNImputer pour imputer les valeurs manquantes\n",
    "\n",
    "imputer = KNNImputer()\n",
    "df_train_imputed = pd.DataFrame(imputer.fit_transform(df_train), columns = [i for i in df_train])\n",
    "df_test_imputed = pd.DataFrame(imputer.fit_transform(df_test), columns = [i for i in df_test])\n",
    "\n",
    "## on vérifie qu'on a bien plus de valeurs manquantes\n",
    "\n",
    "print(df_train_imputed.isna().any())\n",
    "df_test_imputed.isna().any()\n"
   ]
  },
  {
   "cell_type": "markdown",
   "id": "6a2a8ef6",
   "metadata": {},
   "source": [
    "# On récupère les colonnes qui nous intéressent"
   ]
  },
  {
   "cell_type": "code",
   "execution_count": 243,
   "id": "b5676815",
   "metadata": {},
   "outputs": [
    {
     "name": "stdout",
     "output_type": "stream",
     "text": [
      "   Survived  Pclass     Sex  SibSp  Parch Embarked Ticket_Prefix  age_cat  \\\n",
      "0         0       3    male      1      0        S             A        4   \n",
      "1         1       1  female      1      0        C             P        7   \n",
      "2         1       3  female      0      0        S             S        5   \n",
      "3         1       1  female      1      0        S             1        6   \n",
      "4         0       3    male      0      0        S             3        6   \n",
      "\n",
      "   fare_cat Cabin_Prefix  \n",
      "0         0            n  \n",
      "1         3            C  \n",
      "2         0            n  \n",
      "3         2            C  \n",
      "4         0            n  \n",
      "   Pclass     Sex  SibSp  Parch Embarked Ticket_Prefix  age_cat  fare_cat  \\\n",
      "0       3    male      0      0        Q             3        6       0.0   \n",
      "1       3  female      1      0        S             3        9       0.0   \n",
      "2       2    male      0      0        Q             2       12       0.0   \n",
      "3       3    male      0      0        S             3        5       0.0   \n",
      "4       3  female      1      1        S             3        4       0.0   \n",
      "\n",
      "  Cabin_Prefix  \n",
      "0            n  \n",
      "1            n  \n",
      "2            n  \n",
      "3            n  \n",
      "4            n  \n"
     ]
    }
   ],
   "source": [
    "df_train = train.drop(['PassengerId', 'Name', 'Ticket', 'Cabin', 'Age', 'Fare'], axis = 1)\n",
    "y_train = train.Survived\n",
    "#df_train = df_train.drop(['Survived'], axis = 1)\n",
    "\n",
    "Id = test.PassengerId\n",
    "df_test = test.drop(['PassengerId', 'Name', 'Ticket', 'Cabin', 'Age', 'Fare'], axis = 1)\n",
    "\n",
    "print(df_train.head())\n",
    "print(df_test.head())"
   ]
  },
  {
   "cell_type": "markdown",
   "id": "621b8d37",
   "metadata": {},
   "source": [
    "# On va labeliser les valeurs non numériques"
   ]
  },
  {
   "cell_type": "code",
   "execution_count": 231,
   "id": "7574945a",
   "metadata": {},
   "outputs": [
    {
     "name": "stdout",
     "output_type": "stream",
     "text": [
      "variable à labeliser Sex\n",
      "variable à labeliser Ticket_Prefix\n",
      "variable à labeliser Cabin_Prefix\n",
      "variable à labeliser Embarked\n"
     ]
    }
   ],
   "source": [
    "need_labelize = ['Sex', 'Ticket_Prefix', 'Cabin_Prefix', 'Embarked']\n",
    "encode = LabelEncoder()\n",
    "    \n",
    "for lab in need_labelize:\n",
    "    print(\"variable à labeliser\", lab)\n",
    "    encode.fit(df_train[lab])\n",
    "    df_train[lab] = encode.transform(df_train[lab])\n",
    "    df_test[lab] = encode.transform(df_test[lab])\n",
    "    "
   ]
  },
  {
   "cell_type": "code",
   "execution_count": 232,
   "id": "f983d1a8",
   "metadata": {},
   "outputs": [
    {
     "name": "stdout",
     "output_type": "stream",
     "text": [
      "   Survived  Pclass  Sex  SibSp  Parch  Embarked  Ticket_Prefix  age_cat  \\\n",
      "0         0       3    1      1      0         2              9        4   \n",
      "1         1       1    0      1      0         0             13        7   \n",
      "2         1       3    0      0      0         2             14        5   \n",
      "3         1       1    0      1      0         2              0        6   \n",
      "4         0       3    1      0      0         2              2        6   \n",
      "\n",
      "   fare_cat  Cabin_Prefix  \n",
      "0         0             8  \n",
      "1         3             2  \n",
      "2         0             8  \n",
      "3         2             2  \n",
      "4         0             8  \n",
      "   Pclass  Sex  SibSp  Parch  Embarked  Ticket_Prefix  age_cat  fare_cat  \\\n",
      "0       3    1      0      0         1              2        6       0.0   \n",
      "1       3    0      1      0         2              2        9       0.0   \n",
      "2       2    1      0      0         1              1       12       0.0   \n",
      "3       3    1      0      0         2              2        5       0.0   \n",
      "4       3    0      1      1         2              2        4       0.0   \n",
      "\n",
      "   Cabin_Prefix  \n",
      "0             8  \n",
      "1             8  \n",
      "2             8  \n",
      "3             8  \n",
      "4             8  \n"
     ]
    }
   ],
   "source": [
    "print(df_train.head())\n",
    "print(df_test.head())"
   ]
  },
  {
   "cell_type": "markdown",
   "id": "bc8a07eb",
   "metadata": {},
   "source": [
    "# Normaliser les données"
   ]
  },
  {
   "cell_type": "code",
   "execution_count": 233,
   "id": "71a3cba8",
   "metadata": {},
   "outputs": [
    {
     "name": "stdout",
     "output_type": "stream",
     "text": [
      "matrice normée :\n",
      " [[0.         1.         1.         ... 0.26666667 0.         1.        ]\n",
      " [1.         0.         0.         ... 0.46666667 0.12       0.25      ]\n",
      " [1.         1.         0.         ... 0.33333333 0.         1.        ]\n",
      " ...\n",
      " [0.         1.         0.         ... 0.33333333 0.04       1.        ]\n",
      " [1.         0.         1.         ... 0.33333333 0.04       0.25      ]\n",
      " [0.         1.         1.         ... 0.4        0.         1.        ]]\n",
      "matrice normée :\n",
      " [[1.         1.         0.         ... 0.4        0.         1.        ]\n",
      " [1.         0.         0.125      ... 0.6        0.         1.        ]\n",
      " [0.5        1.         0.         ... 0.8        0.         1.        ]\n",
      " ...\n",
      " [1.         1.         0.         ... 0.46666667 0.         1.        ]\n",
      " [1.         1.         0.         ... 0.4        0.         1.        ]\n",
      " [1.         1.         0.125      ... 0.4        0.04       1.        ]]\n"
     ]
    }
   ],
   "source": [
    "### On norme les données \n",
    "m = MinMaxScaler()\n",
    "n_train = m.fit_transform(df_train)\n",
    "print(\"matrice normée :\" + \"\\n\", n_train)\n",
    "\n",
    "n_test = m.fit_transform(df_test)\n",
    "print(\"matrice normée :\" + \"\\n\", n_test)\n"
   ]
  },
  {
   "cell_type": "markdown",
   "id": "d4bc5464",
   "metadata": {},
   "source": [
    "# Matrice de corrélation pour observer l'importance des variables"
   ]
  },
  {
   "cell_type": "code",
   "execution_count": 234,
   "id": "7e85c9a4",
   "metadata": {},
   "outputs": [
    {
     "name": "stdout",
     "output_type": "stream",
     "text": [
      "matrice de corrélation :\n",
      "                Survived    Pclass       Sex     SibSp     Parch  Embarked  \\\n",
      "Survived       1.000000 -0.338481 -0.543351 -0.035322  0.081629 -0.167675   \n",
      "Pclass        -0.338481  1.000000  0.131900  0.083081  0.018443  0.162098   \n",
      "Sex           -0.543351  0.131900  1.000000 -0.114631 -0.245489  0.108262   \n",
      "SibSp         -0.035322  0.083081 -0.114631  1.000000  0.414838  0.068230   \n",
      "Parch          0.081629  0.018443 -0.245489  0.414838  1.000000  0.039798   \n",
      "Embarked      -0.167675  0.162098  0.108262  0.068230  0.039798  1.000000   \n",
      "Ticket_Prefix -0.036178 -0.003277  0.031341  0.049331  0.015628 -0.058472   \n",
      "age_cat       -0.067378 -0.337584  0.087931 -0.232882 -0.171021 -0.014728   \n",
      "fare_cat       0.246081 -0.541144 -0.174444  0.154775  0.217267 -0.217399   \n",
      "Cabin_Prefix  -0.301116  0.746616  0.123076  0.041540 -0.032548  0.194255   \n",
      "\n",
      "               Ticket_Prefix   age_cat  fare_cat  Cabin_Prefix  \n",
      "Survived           -0.036178 -0.067378  0.246081     -0.301116  \n",
      "Pclass             -0.003277 -0.337584 -0.541144      0.746616  \n",
      "Sex                 0.031341  0.087931 -0.174444      0.123076  \n",
      "SibSp               0.049331 -0.232882  0.154775      0.041540  \n",
      "Parch               0.015628 -0.171021  0.217267     -0.032548  \n",
      "Embarked           -0.058472 -0.014728 -0.217399      0.194255  \n",
      "Ticket_Prefix       1.000000  0.013995  0.147763      0.043634  \n",
      "age_cat             0.013995  1.000000  0.093896     -0.257945  \n",
      "fare_cat            0.147763  0.093896  1.000000     -0.516979  \n",
      "Cabin_Prefix        0.043634 -0.257945 -0.516979      1.000000  \n"
     ]
    },
    {
     "data": {
      "image/png": "[encoded data removed]",
      "text/plain": [
       "<Figure size 640x480 with 2 Axes>"
      ]
     },
     "metadata": {},
     "output_type": "display_data"
    }
   ],
   "source": [
    "correlation = pd.DataFrame(n_train, columns = [i for i in df_train]).corr()\n",
    "print(\"matrice de corrélation :\" + \"\\n\", correlation)\n",
    "sb.heatmap(correlation)\n",
    "plt.show()"
   ]
  },
  {
   "cell_type": "markdown",
   "id": "b277c200",
   "metadata": {},
   "source": [
    "# On va pouvoir commencer à utiliser nos modèle pour prédire"
   ]
  },
  {
   "cell_type": "code",
   "execution_count": 236,
   "id": "d4426992",
   "metadata": {},
   "outputs": [],
   "source": [
    "## on sépare notre jeu de données en train et validation\n",
    "\n",
    "n_train = pd.DataFrame(n_train, columns = [i for i in df_train]).drop(['Survived'], axis = 1)\n",
    "\n",
    "x_train, x_val, y_train, y_val = train_test_split(n_train, y_train, test_size = 0.3, random_state = 42)\n"
   ]
  },
  {
   "cell_type": "markdown",
   "id": "e2d4c235",
   "metadata": {},
   "source": [
    "# Logistic regression"
   ]
  },
  {
   "cell_type": "code",
   "execution_count": 237,
   "id": "7919885b",
   "metadata": {},
   "outputs": [
    {
     "data": {
      "text/plain": [
       "0.8097014925373134"
      ]
     },
     "execution_count": 237,
     "metadata": {},
     "output_type": "execute_result"
    }
   ],
   "source": [
    "clf = LogisticRegression()\n",
    "clf.fit(x_train, y_train)\n",
    "\n",
    "pred = clf.predict(x_val)\n",
    "\n",
    "accuracy_score(y_val, pred)"
   ]
  },
  {
   "cell_type": "markdown",
   "id": "15916ec5",
   "metadata": {},
   "source": [
    "# Random Forest"
   ]
  },
  {
   "cell_type": "code",
   "execution_count": 239,
   "id": "96b4e45c",
   "metadata": {},
   "outputs": [
    {
     "name": "stdout",
     "output_type": "stream",
     "text": [
      "précision accuracy :  0.7835820895522388\n"
     ]
    },
    {
     "data": {
      "image/png": "[encoded data removed]",
      "text/plain": [
       "<Figure size 640x480 with 2 Axes>"
      ]
     },
     "metadata": {},
     "output_type": "display_data"
    }
   ],
   "source": [
    "model1 = RandomForestClassifier(n_estimators = 100) \n",
    "\n",
    "model1.fit(x_train, y_train)\n",
    "\n",
    "predictions = model1.predict(x_val)\n",
    "\n",
    "print(\"précision accuracy : \",  accuracy_score(y_val, predictions))\n",
    "\n",
    "cm = confusion_matrix(y_val, predictions)\n",
    "sb.heatmap(cm,annot = True,fmt = \".1f\")\n",
    "plt.show()"
   ]
  },
  {
   "cell_type": "markdown",
   "id": "0fe99598",
   "metadata": {},
   "source": [
    "# Arbre de décision"
   ]
  },
  {
   "cell_type": "code",
   "execution_count": 242,
   "id": "1e2779a9",
   "metadata": {},
   "outputs": [
    {
     "name": "stdout",
     "output_type": "stream",
     "text": [
      "précision accuracy :  0.7723880597014925\n"
     ]
    },
    {
     "data": {
      "image/png": "[encoded data removed]",
      "text/plain": [
       "<Figure size 640x480 with 2 Axes>"
      ]
     },
     "metadata": {},
     "output_type": "display_data"
    }
   ],
   "source": [
    "model = DecisionTreeClassifier(criterion = 'entropy')\n",
    "model.fit(x_train, y_train)\n",
    "\n",
    "predictions = model.predict(x_val)\n",
    "\n",
    "print(\"précision accuracy : \",  accuracy_score(y_val, predictions))\n",
    "\n",
    "cm = confusion_matrix(y_val, predictions)\n",
    "sb.heatmap(cm,annot = True,fmt = \".1f\")\n",
    "plt.show()"
   ]
  },
  {
   "cell_type": "code",
   "execution_count": null,
   "id": "29dac21c",
   "metadata": {},
   "outputs": [],
   "source": [
    "db = pd.DataFrame(Id)\n",
    "db['Surv'] = predictions\n",
    "db.columns = ['PassengerId', 'Survived']\n",
    "db\n",
    "\n",
    "db.to_csv('/Users/avicenne/Documents/python/kaggle/submissions.csv', index = False)\n"
   ]
  },
  {
   "cell_type": "markdown",
   "id": "188863e3",
   "metadata": {},
   "source": [
    "# ----------------------- KNNImputer ----------------------------------------"
   ]
  },
  {
   "cell_type": "markdown",
   "id": "29fe1c5c",
   "metadata": {},
   "source": [
    "# On peut gérer les valeurs manquantes avec KNNImputer qui va les remplacer par la méthode des plus proches voisins"
   ]
  },
  {
   "cell_type": "code",
   "execution_count": 386,
   "id": "c71b8ef9",
   "metadata": {},
   "outputs": [],
   "source": [
    "from sklearn.impute import KNNImputer\n",
    "IMP = KNNImputer(n_neighbors=1)\n",
    "encode = LabelEncoder()"
   ]
  },
  {
   "cell_type": "code",
   "execution_count": 387,
   "id": "b010fdae",
   "metadata": {},
   "outputs": [],
   "source": [
    "train = pd.read_csv('/Users/avicenne/Documents/python/kaggle/titanic/train.csv')\n",
    "test = pd.read_csv('/Users/avicenne/Documents/python/kaggle/titanic/test.csv')\n"
   ]
  },
  {
   "cell_type": "raw",
   "id": "79ed6224",
   "metadata": {},
   "source": [
    "On recrée les catégories"
   ]
  },
  {
   "cell_type": "code",
   "execution_count": 388,
   "id": "f8e4cc8b",
   "metadata": {},
   "outputs": [],
   "source": [
    "#----------------------- Train -------------------------------------------#\n",
    "\n",
    "train['age_cat'] = train.Age.apply(lambda x : categ_age(x))\n",
    "train['fare_cat'] = train.Fare.apply(lambda x : categ_fare(x))\n",
    "train['Ticket_Prefix'] = train['Ticket'].apply(lambda x: x[:1])  # Ajustez selon le critère souhaité\n",
    "train['Cabin_Prefix'] = train['Cabin'].apply(lambda x: str(x)[0])  # Ajustez selon le critère souhaité\n",
    "\n",
    "\n",
    "#----------------------- Test -------------------------------------------#\n",
    "\n",
    "test['age_cat'] = test.Age.apply(lambda x : categ_age(x))\n",
    "test['fare_cat'] = test.Fare.apply(lambda x : categ_fare(x))\n",
    "test['Ticket_Prefix'] = test['Ticket'].apply(lambda x: x[:1])  # Ajustez selon le critère souhaité\n",
    "test['Cabin_Prefix'] = test['Cabin'].apply(lambda x: str(x)[0])  # Ajustez selon le critère souhaité"
   ]
  },
  {
   "cell_type": "code",
   "execution_count": 389,
   "id": "6429e951",
   "metadata": {},
   "outputs": [
    {
     "data": {
      "text/html": [
       "<div>\n",
       "<style scoped>\n",
       "    .dataframe tbody tr th:only-of-type {\n",
       "        vertical-align: middle;\n",
       "    }\n",
       "\n",
       "    .dataframe tbody tr th {\n",
       "        vertical-align: top;\n",
       "    }\n",
       "\n",
       "    .dataframe thead th {\n",
       "        text-align: right;\n",
       "    }\n",
       "</style>\n",
       "<table border=\"1\" class=\"dataframe\">\n",
       "  <thead>\n",
       "    <tr style=\"text-align: right;\">\n",
       "      <th></th>\n",
       "      <th>PassengerId</th>\n",
       "      <th>Survived</th>\n",
       "      <th>Pclass</th>\n",
       "      <th>Name</th>\n",
       "      <th>Sex</th>\n",
       "      <th>Age</th>\n",
       "      <th>SibSp</th>\n",
       "      <th>Parch</th>\n",
       "      <th>Ticket</th>\n",
       "      <th>Fare</th>\n",
       "      <th>Cabin</th>\n",
       "      <th>Embarked</th>\n",
       "      <th>age_cat</th>\n",
       "      <th>fare_cat</th>\n",
       "      <th>Ticket_Prefix</th>\n",
       "      <th>Cabin_Prefix</th>\n",
       "    </tr>\n",
       "  </thead>\n",
       "  <tbody>\n",
       "    <tr>\n",
       "      <th>5</th>\n",
       "      <td>6</td>\n",
       "      <td>0</td>\n",
       "      <td>3</td>\n",
       "      <td>Moran, Mr. James</td>\n",
       "      <td>male</td>\n",
       "      <td>NaN</td>\n",
       "      <td>0</td>\n",
       "      <td>0</td>\n",
       "      <td>330877</td>\n",
       "      <td>8.4583</td>\n",
       "      <td>NaN</td>\n",
       "      <td>Q</td>\n",
       "      <td>NaN</td>\n",
       "      <td>0</td>\n",
       "      <td>3</td>\n",
       "      <td>n</td>\n",
       "    </tr>\n",
       "    <tr>\n",
       "      <th>17</th>\n",
       "      <td>18</td>\n",
       "      <td>1</td>\n",
       "      <td>2</td>\n",
       "      <td>Williams, Mr. Charles Eugene</td>\n",
       "      <td>male</td>\n",
       "      <td>NaN</td>\n",
       "      <td>0</td>\n",
       "      <td>0</td>\n",
       "      <td>244373</td>\n",
       "      <td>13.0000</td>\n",
       "      <td>NaN</td>\n",
       "      <td>S</td>\n",
       "      <td>NaN</td>\n",
       "      <td>0</td>\n",
       "      <td>2</td>\n",
       "      <td>n</td>\n",
       "    </tr>\n",
       "    <tr>\n",
       "      <th>19</th>\n",
       "      <td>20</td>\n",
       "      <td>1</td>\n",
       "      <td>3</td>\n",
       "      <td>Masselmani, Mrs. Fatima</td>\n",
       "      <td>female</td>\n",
       "      <td>NaN</td>\n",
       "      <td>0</td>\n",
       "      <td>0</td>\n",
       "      <td>2649</td>\n",
       "      <td>7.2250</td>\n",
       "      <td>NaN</td>\n",
       "      <td>C</td>\n",
       "      <td>NaN</td>\n",
       "      <td>0</td>\n",
       "      <td>2</td>\n",
       "      <td>n</td>\n",
       "    </tr>\n",
       "    <tr>\n",
       "      <th>26</th>\n",
       "      <td>27</td>\n",
       "      <td>0</td>\n",
       "      <td>3</td>\n",
       "      <td>Emir, Mr. Farred Chehab</td>\n",
       "      <td>male</td>\n",
       "      <td>NaN</td>\n",
       "      <td>0</td>\n",
       "      <td>0</td>\n",
       "      <td>2631</td>\n",
       "      <td>7.2250</td>\n",
       "      <td>NaN</td>\n",
       "      <td>C</td>\n",
       "      <td>NaN</td>\n",
       "      <td>0</td>\n",
       "      <td>2</td>\n",
       "      <td>n</td>\n",
       "    </tr>\n",
       "    <tr>\n",
       "      <th>28</th>\n",
       "      <td>29</td>\n",
       "      <td>1</td>\n",
       "      <td>3</td>\n",
       "      <td>O'Dwyer, Miss. Ellen \"Nellie\"</td>\n",
       "      <td>female</td>\n",
       "      <td>NaN</td>\n",
       "      <td>0</td>\n",
       "      <td>0</td>\n",
       "      <td>330959</td>\n",
       "      <td>7.8792</td>\n",
       "      <td>NaN</td>\n",
       "      <td>Q</td>\n",
       "      <td>NaN</td>\n",
       "      <td>0</td>\n",
       "      <td>3</td>\n",
       "      <td>n</td>\n",
       "    </tr>\n",
       "  </tbody>\n",
       "</table>\n",
       "</div>"
      ],
      "text/plain": [
       "    PassengerId  Survived  Pclass                           Name     Sex  Age  \\\n",
       "5             6         0       3               Moran, Mr. James    male  NaN   \n",
       "17           18         1       2   Williams, Mr. Charles Eugene    male  NaN   \n",
       "19           20         1       3        Masselmani, Mrs. Fatima  female  NaN   \n",
       "26           27         0       3        Emir, Mr. Farred Chehab    male  NaN   \n",
       "28           29         1       3  O'Dwyer, Miss. Ellen \"Nellie\"  female  NaN   \n",
       "\n",
       "    SibSp  Parch  Ticket     Fare Cabin Embarked  age_cat  fare_cat  \\\n",
       "5       0      0  330877   8.4583   NaN        Q      NaN         0   \n",
       "17      0      0  244373  13.0000   NaN        S      NaN         0   \n",
       "19      0      0    2649   7.2250   NaN        C      NaN         0   \n",
       "26      0      0    2631   7.2250   NaN        C      NaN         0   \n",
       "28      0      0  330959   7.8792   NaN        Q      NaN         0   \n",
       "\n",
       "   Ticket_Prefix Cabin_Prefix  \n",
       "5              3            n  \n",
       "17             2            n  \n",
       "19             2            n  \n",
       "26             2            n  \n",
       "28             3            n  "
      ]
     },
     "execution_count": 389,
     "metadata": {},
     "output_type": "execute_result"
    }
   ],
   "source": [
    "\n",
    "## on vérifie que les valeurs manquantes sont toujours telles quelles après la création de classe\n",
    "## sauf pour cabine on garde les valeurs inconnues comme une nouvelle classe\n",
    "\n",
    "train[train.Age.isna() == True].head()"
   ]
  },
  {
   "cell_type": "code",
   "execution_count": 419,
   "id": "b6023915",
   "metadata": {},
   "outputs": [
    {
     "name": "stdout",
     "output_type": "stream",
     "text": [
      "False\n",
      "   Survived  Pclass     Sex  SibSp  Parch Embarked  age_cat  fare_cat  \\\n",
      "0         0       3    male      1      0        S      4.0         0   \n",
      "1         1       1  female      1      0        C      7.0         3   \n",
      "2         1       3  female      0      0        S      5.0         0   \n",
      "3         1       1  female      1      0        S      6.0         2   \n",
      "4         0       3    male      0      0        S      6.0         0   \n",
      "\n",
      "  Ticket_Prefix Cabin_Prefix  \n",
      "0             A            n  \n",
      "1             P            C  \n",
      "2             S            n  \n",
      "3             1            C  \n",
      "4             3            n  \n"
     ]
    },
    {
     "data": {
      "text/html": [
       "<div>\n",
       "<style scoped>\n",
       "    .dataframe tbody tr th:only-of-type {\n",
       "        vertical-align: middle;\n",
       "    }\n",
       "\n",
       "    .dataframe tbody tr th {\n",
       "        vertical-align: top;\n",
       "    }\n",
       "\n",
       "    .dataframe thead th {\n",
       "        text-align: right;\n",
       "    }\n",
       "</style>\n",
       "<table border=\"1\" class=\"dataframe\">\n",
       "  <thead>\n",
       "    <tr style=\"text-align: right;\">\n",
       "      <th></th>\n",
       "      <th>Pclass</th>\n",
       "      <th>Sex</th>\n",
       "      <th>SibSp</th>\n",
       "      <th>Parch</th>\n",
       "      <th>Embarked</th>\n",
       "      <th>age_cat</th>\n",
       "      <th>fare_cat</th>\n",
       "      <th>Ticket_Prefix</th>\n",
       "      <th>Cabin_Prefix</th>\n",
       "    </tr>\n",
       "  </thead>\n",
       "  <tbody>\n",
       "    <tr>\n",
       "      <th>0</th>\n",
       "      <td>3</td>\n",
       "      <td>male</td>\n",
       "      <td>0</td>\n",
       "      <td>0</td>\n",
       "      <td>Q</td>\n",
       "      <td>6.0</td>\n",
       "      <td>0.0</td>\n",
       "      <td>3</td>\n",
       "      <td>n</td>\n",
       "    </tr>\n",
       "    <tr>\n",
       "      <th>1</th>\n",
       "      <td>3</td>\n",
       "      <td>female</td>\n",
       "      <td>1</td>\n",
       "      <td>0</td>\n",
       "      <td>S</td>\n",
       "      <td>9.0</td>\n",
       "      <td>0.0</td>\n",
       "      <td>3</td>\n",
       "      <td>n</td>\n",
       "    </tr>\n",
       "    <tr>\n",
       "      <th>2</th>\n",
       "      <td>2</td>\n",
       "      <td>male</td>\n",
       "      <td>0</td>\n",
       "      <td>0</td>\n",
       "      <td>Q</td>\n",
       "      <td>12.0</td>\n",
       "      <td>0.0</td>\n",
       "      <td>2</td>\n",
       "      <td>n</td>\n",
       "    </tr>\n",
       "    <tr>\n",
       "      <th>3</th>\n",
       "      <td>3</td>\n",
       "      <td>male</td>\n",
       "      <td>0</td>\n",
       "      <td>0</td>\n",
       "      <td>S</td>\n",
       "      <td>5.0</td>\n",
       "      <td>0.0</td>\n",
       "      <td>3</td>\n",
       "      <td>n</td>\n",
       "    </tr>\n",
       "    <tr>\n",
       "      <th>4</th>\n",
       "      <td>3</td>\n",
       "      <td>female</td>\n",
       "      <td>1</td>\n",
       "      <td>1</td>\n",
       "      <td>S</td>\n",
       "      <td>4.0</td>\n",
       "      <td>0.0</td>\n",
       "      <td>3</td>\n",
       "      <td>n</td>\n",
       "    </tr>\n",
       "  </tbody>\n",
       "</table>\n",
       "</div>"
      ],
      "text/plain": [
       "   Pclass     Sex  SibSp  Parch Embarked  age_cat  fare_cat Ticket_Prefix  \\\n",
       "0       3    male      0      0        Q      6.0       0.0             3   \n",
       "1       3  female      1      0        S      9.0       0.0             3   \n",
       "2       2    male      0      0        Q     12.0       0.0             2   \n",
       "3       3    male      0      0        S      5.0       0.0             3   \n",
       "4       3  female      1      1        S      4.0       0.0             3   \n",
       "\n",
       "  Cabin_Prefix  \n",
       "0            n  \n",
       "1            n  \n",
       "2            n  \n",
       "3            n  \n",
       "4            n  "
      ]
     },
     "execution_count": 419,
     "metadata": {},
     "output_type": "execute_result"
    }
   ],
   "source": [
    "dropped = ['PassengerId', 'Name', 'Age', 'Fare', 'Ticket', 'Cabin']\n",
    "\n",
    "df_train = train.drop(dropped, axis = 1)\n",
    "df_test = test.drop(dropped, axis = 1)\n",
    "\n",
    "y_train = df_train['Survived']\n",
    "print(y_train.isna().any())\n",
    "\n",
    "print(df_train.head())\n",
    "df_test.head()"
   ]
  },
  {
   "cell_type": "raw",
   "id": "3d5ddc99",
   "metadata": {},
   "source": [
    "On va labeliser certaines colonnes sans toucher aux valeurs manquantes"
   ]
  },
  {
   "cell_type": "code",
   "execution_count": 420,
   "id": "94720344",
   "metadata": {},
   "outputs": [
    {
     "name": "stdout",
     "output_type": "stream",
     "text": [
      "valeurs manquantes ?: True\n"
     ]
    },
    {
     "data": {
      "text/plain": [
       "pandas.core.series.Series"
      ]
     },
     "execution_count": 420,
     "metadata": {},
     "output_type": "execute_result"
    }
   ],
   "source": [
    "## Pour la suite on ne veut pas que les valeurs manquantes de Embarked soient string donc on les convertis\n",
    "\n",
    "df_train['Embarked'] = df_train['Embarked'].replace('nan', np.nan)\n",
    "print('valeurs manquantes ?:', df_train['Embarked'].isna().any())\n",
    "type(df_train[df_train['Embarked'].isna()]['Embarked'])"
   ]
  },
  {
   "cell_type": "code",
   "execution_count": 421,
   "id": "e83f8e9c",
   "metadata": {},
   "outputs": [
    {
     "name": "stdout",
     "output_type": "stream",
     "text": [
      "variable à labeliser Sex\n",
      "variable à labeliser Ticket_Prefix\n",
      "variable à labeliser Cabin_Prefix\n",
      "{'C': 0, 'Q': 1, 'S': 2, nan: 3}\n"
     ]
    }
   ],
   "source": [
    "## on entraîne notre encoder sur les données non nulles pour garder les valeurs manquantes\n",
    "\n",
    "knn_encode = LabelEncoder()\n",
    "\n",
    "need_labelize = ['Sex', 'Ticket_Prefix', 'Cabin_Prefix']\n",
    "    \n",
    "for lab in need_labelize:\n",
    "    print(\"variable à labeliser\", lab)\n",
    "    df_train[lab] = encode.fit_transform(df_train[lab].astype(str))\n",
    "    df_test[lab] = encode.transform(df_test[lab].astype(str))\n",
    "\n",
    "\n",
    "df_train['Embarked'] = encode.fit_transform(df_train['Embarked'])\n",
    "df_test['Embarked'] = encode.transform(df_test['Embarked'])\n",
    "# Récupérer les correspondances entre les labels et les classes d'origine\n",
    "label_to_class = dict(zip(encode.classes_, encode.transform(encode.classes_)))\n",
    "\n",
    "# Afficher les correspondances\n",
    "print(label_to_class)"
   ]
  },
  {
   "cell_type": "code",
   "execution_count": 422,
   "id": "bc34f835",
   "metadata": {},
   "outputs": [],
   "source": [
    "#On récupère les labels de Embarked car les valeurs manquantes sont transformées, et on les récupères\n",
    "\n",
    "df_train['Embarked'] = df_train['Embarked'].replace(3, np.nan)\n",
    "df_test['Embarked'] = df_test['Embarked'].replace(3, np.nan)"
   ]
  },
  {
   "cell_type": "code",
   "execution_count": 423,
   "id": "a85a18b2",
   "metadata": {},
   "outputs": [
    {
     "name": "stdout",
     "output_type": "stream",
     "text": [
      "Survived         False\n",
      "Pclass           False\n",
      "Sex              False\n",
      "SibSp            False\n",
      "Parch            False\n",
      "Embarked          True\n",
      "age_cat           True\n",
      "fare_cat         False\n",
      "Ticket_Prefix    False\n",
      "Cabin_Prefix     False\n",
      "dtype: bool\n",
      "valeurs manquantes Embarked :\n",
      " 0.002244668911335578\n",
      "\n",
      "valeurs manquantes age_cat :\n",
      " 0.19865319865319866\n"
     ]
    }
   ],
   "source": [
    "## on conserve bien les valeurs manquantes\n",
    "\n",
    "print(df_train.isna().any())\n",
    "print('valeurs manquantes Embarked :\\n', df_train.Embarked.isna().sum()/len(train))\n",
    "print('\\nvaleurs manquantes age_cat :\\n',df_train.age_cat.isna().sum()/len(train))\n"
   ]
  },
  {
   "cell_type": "markdown",
   "id": "196ca9b2",
   "metadata": {},
   "source": [
    "# Question on entraîne sur train avec survived mais pas de survived dans test donc pb, or si on knn sans survived on perd une info et si on fit_transform séparemment pas même result\n"
   ]
  },
  {
   "cell_type": "code",
   "execution_count": 424,
   "id": "9364e43d",
   "metadata": {},
   "outputs": [],
   "source": [
    "\n",
    "# Utiliser KNNImputer pour imputer les valeurs manquantes\n",
    "\n",
    "imputer = KNNImputer()\n",
    "df_train_imputed = pd.DataFrame(imputer.fit_transform(df_train), columns = [i for i in df_train])\n",
    "df_test_imputed = pd.DataFrame(imputer.fit_transform(df_test), columns = [i for i in df_test])\n"
   ]
  },
  {
   "cell_type": "code",
   "execution_count": 425,
   "id": "138f9300",
   "metadata": {},
   "outputs": [
    {
     "name": "stdout",
     "output_type": "stream",
     "text": [
      "Survived         False\n",
      "Pclass           False\n",
      "Sex              False\n",
      "SibSp            False\n",
      "Parch            False\n",
      "Embarked         False\n",
      "age_cat          False\n",
      "fare_cat         False\n",
      "Ticket_Prefix    False\n",
      "Cabin_Prefix     False\n",
      "dtype: bool\n"
     ]
    },
    {
     "data": {
      "text/plain": [
       "Pclass           False\n",
       "Sex              False\n",
       "SibSp            False\n",
       "Parch            False\n",
       "Embarked         False\n",
       "age_cat          False\n",
       "fare_cat         False\n",
       "Ticket_Prefix    False\n",
       "Cabin_Prefix     False\n",
       "dtype: bool"
      ]
     },
     "execution_count": 425,
     "metadata": {},
     "output_type": "execute_result"
    }
   ],
   "source": [
    "## on vérifie qu'on a bien plus de valeurs manquantes\n",
    "\n",
    "print(df_train_imputed.isna().any())\n",
    "df_test_imputed.isna().any()"
   ]
  },
  {
   "cell_type": "code",
   "execution_count": 426,
   "id": "a88e0328",
   "metadata": {},
   "outputs": [
    {
     "name": "stdout",
     "output_type": "stream",
     "text": [
      "matrice de corrélation :\n",
      "                Survived    Pclass       Sex     SibSp     Parch  Embarked  \\\n",
      "Survived       1.000000 -0.338481 -0.543351 -0.035322  0.081629 -0.171495   \n",
      "Pclass        -0.338481  1.000000  0.131900  0.083081  0.018443  0.166855   \n",
      "Sex           -0.543351  0.131900  1.000000 -0.114631 -0.245489  0.112405   \n",
      "SibSp         -0.035322  0.083081 -0.114631  1.000000  0.414838  0.069657   \n",
      "Parch          0.081629  0.018443 -0.245489  0.414838  1.000000  0.041245   \n",
      "Embarked      -0.171495  0.166855  0.112405  0.069657  0.041245  1.000000   \n",
      "age_cat       -0.088268 -0.387537  0.147238 -0.320179 -0.212818 -0.037605   \n",
      "fare_cat       0.246081 -0.541144 -0.174444  0.154775  0.217267 -0.220835   \n",
      "Ticket_Prefix -0.036178 -0.003277  0.031341  0.049331  0.015628 -0.055767   \n",
      "Cabin_Prefix  -0.301116  0.746616  0.123076  0.041540 -0.032548  0.201351   \n",
      "\n",
      "                age_cat  fare_cat  Ticket_Prefix  Cabin_Prefix  \n",
      "Survived      -0.088268  0.246081      -0.036178     -0.301116  \n",
      "Pclass        -0.387537 -0.541144      -0.003277      0.746616  \n",
      "Sex            0.147238 -0.174444       0.031341      0.123076  \n",
      "SibSp         -0.320179  0.154775       0.049331      0.041540  \n",
      "Parch         -0.212818  0.217267       0.015628     -0.032548  \n",
      "Embarked      -0.037605 -0.220835      -0.055767      0.201351  \n",
      "age_cat        1.000000  0.089918      -0.004022     -0.282186  \n",
      "fare_cat       0.089918  1.000000       0.147763     -0.516979  \n",
      "Ticket_Prefix -0.004022  0.147763       1.000000      0.043634  \n",
      "Cabin_Prefix  -0.282186 -0.516979       0.043634      1.000000  \n"
     ]
    },
    {
     "data": {
      "image/png": "[encoded data removed]",
      "text/plain": [
       "<Figure size 640x480 with 2 Axes>"
      ]
     },
     "metadata": {},
     "output_type": "display_data"
    }
   ],
   "source": [
    "correlation = df_train_imputed.corr()\n",
    "print(\"matrice de corrélation :\" + \"\\n\", correlation)\n",
    "sb.heatmap(correlation)\n",
    "plt.show()"
   ]
  },
  {
   "cell_type": "markdown",
   "id": "050a08e6",
   "metadata": {},
   "source": [
    "# On normalise"
   ]
  },
  {
   "cell_type": "code",
   "execution_count": 427,
   "id": "3ffbcc12",
   "metadata": {},
   "outputs": [
    {
     "name": "stdout",
     "output_type": "stream",
     "text": [
      "matrice normée train :\n",
      " [[0.         1.         1.         ... 0.         0.6        1.        ]\n",
      " [1.         0.         0.         ... 0.12       0.86666667 0.25      ]\n",
      " [1.         1.         0.         ... 0.         0.93333333 1.        ]\n",
      " ...\n",
      " [0.         1.         0.         ... 0.04       1.         1.        ]\n",
      " [1.         0.         1.         ... 0.04       0.         0.25      ]\n",
      " [0.         1.         1.         ... 0.         0.13333333 1.        ]]\n",
      "matrice normée test :\n",
      " [[1.         1.         0.         ... 0.         0.13333333 1.        ]\n",
      " [1.         0.         0.125      ... 0.         0.13333333 1.        ]\n",
      " [0.5        1.         0.         ... 0.         0.06666667 1.        ]\n",
      " ...\n",
      " [1.         1.         0.         ... 0.         0.93333333 1.        ]\n",
      " [1.         1.         0.         ... 0.         0.13333333 1.        ]\n",
      " [1.         1.         0.125      ... 0.04       0.06666667 1.        ]]\n"
     ]
    }
   ],
   "source": [
    "### On norme les données \n",
    "m = MinMaxScaler()\n",
    "n_train = m.fit_transform(df_train_imputed)\n",
    "print(\"matrice normée train :\" + \"\\n\", n_train)\n",
    "\n",
    "n_test = m.fit_transform(df_test_imputed)\n",
    "print(\"matrice normée test :\" + \"\\n\", n_test)"
   ]
  },
  {
   "cell_type": "code",
   "execution_count": 428,
   "id": "85d89890",
   "metadata": {},
   "outputs": [
    {
     "data": {
      "text/plain": [
       "891"
      ]
     },
     "execution_count": 428,
     "metadata": {},
     "output_type": "execute_result"
    }
   ],
   "source": [
    "len(n_train)"
   ]
  },
  {
   "cell_type": "markdown",
   "id": "c1ceac88",
   "metadata": {},
   "source": [
    "# Split et train"
   ]
  },
  {
   "cell_type": "code",
   "execution_count": 430,
   "id": "ef27e603",
   "metadata": {},
   "outputs": [
    {
     "name": "stdout",
     "output_type": "stream",
     "text": [
      "   Pclass  Sex  SibSp  Parch  Embarked   age_cat  fare_cat  Ticket_Prefix  \\\n",
      "0     1.0  1.0  0.125    0.0       1.0  0.266667      0.00       0.600000   \n",
      "1     0.0  0.0  0.125    0.0       0.0  0.466667      0.12       0.866667   \n",
      "2     1.0  0.0  0.000    0.0       1.0  0.333333      0.00       0.933333   \n",
      "3     0.0  0.0  0.125    0.0       1.0  0.400000      0.08       0.000000   \n",
      "4     1.0  1.0  0.000    0.0       1.0  0.400000      0.00       0.133333   \n",
      "\n",
      "   Cabin_Prefix  \n",
      "0          1.00  \n",
      "1          0.25  \n",
      "2          1.00  \n",
      "3          0.25  \n",
      "4          1.00  \n"
     ]
    },
    {
     "data": {
      "text/html": [
       "<div>\n",
       "<style scoped>\n",
       "    .dataframe tbody tr th:only-of-type {\n",
       "        vertical-align: middle;\n",
       "    }\n",
       "\n",
       "    .dataframe tbody tr th {\n",
       "        vertical-align: top;\n",
       "    }\n",
       "\n",
       "    .dataframe thead th {\n",
       "        text-align: right;\n",
       "    }\n",
       "</style>\n",
       "<table border=\"1\" class=\"dataframe\">\n",
       "  <thead>\n",
       "    <tr style=\"text-align: right;\">\n",
       "      <th></th>\n",
       "      <th>Pclass</th>\n",
       "      <th>Sex</th>\n",
       "      <th>SibSp</th>\n",
       "      <th>Parch</th>\n",
       "      <th>Embarked</th>\n",
       "      <th>age_cat</th>\n",
       "      <th>fare_cat</th>\n",
       "      <th>Ticket_Prefix</th>\n",
       "      <th>Cabin_Prefix</th>\n",
       "    </tr>\n",
       "  </thead>\n",
       "  <tbody>\n",
       "    <tr>\n",
       "      <th>0</th>\n",
       "      <td>1.0</td>\n",
       "      <td>1.0</td>\n",
       "      <td>0.000</td>\n",
       "      <td>0.000000</td>\n",
       "      <td>0.5</td>\n",
       "      <td>0.400000</td>\n",
       "      <td>0.0</td>\n",
       "      <td>0.133333</td>\n",
       "      <td>1.0</td>\n",
       "    </tr>\n",
       "    <tr>\n",
       "      <th>1</th>\n",
       "      <td>1.0</td>\n",
       "      <td>0.0</td>\n",
       "      <td>0.125</td>\n",
       "      <td>0.000000</td>\n",
       "      <td>1.0</td>\n",
       "      <td>0.600000</td>\n",
       "      <td>0.0</td>\n",
       "      <td>0.133333</td>\n",
       "      <td>1.0</td>\n",
       "    </tr>\n",
       "    <tr>\n",
       "      <th>2</th>\n",
       "      <td>0.5</td>\n",
       "      <td>1.0</td>\n",
       "      <td>0.000</td>\n",
       "      <td>0.000000</td>\n",
       "      <td>0.5</td>\n",
       "      <td>0.800000</td>\n",
       "      <td>0.0</td>\n",
       "      <td>0.066667</td>\n",
       "      <td>1.0</td>\n",
       "    </tr>\n",
       "    <tr>\n",
       "      <th>3</th>\n",
       "      <td>1.0</td>\n",
       "      <td>1.0</td>\n",
       "      <td>0.000</td>\n",
       "      <td>0.000000</td>\n",
       "      <td>1.0</td>\n",
       "      <td>0.333333</td>\n",
       "      <td>0.0</td>\n",
       "      <td>0.133333</td>\n",
       "      <td>1.0</td>\n",
       "    </tr>\n",
       "    <tr>\n",
       "      <th>4</th>\n",
       "      <td>1.0</td>\n",
       "      <td>0.0</td>\n",
       "      <td>0.125</td>\n",
       "      <td>0.111111</td>\n",
       "      <td>1.0</td>\n",
       "      <td>0.266667</td>\n",
       "      <td>0.0</td>\n",
       "      <td>0.133333</td>\n",
       "      <td>1.0</td>\n",
       "    </tr>\n",
       "  </tbody>\n",
       "</table>\n",
       "</div>"
      ],
      "text/plain": [
       "   Pclass  Sex  SibSp     Parch  Embarked   age_cat  fare_cat  Ticket_Prefix  \\\n",
       "0     1.0  1.0  0.000  0.000000       0.5  0.400000       0.0       0.133333   \n",
       "1     1.0  0.0  0.125  0.000000       1.0  0.600000       0.0       0.133333   \n",
       "2     0.5  1.0  0.000  0.000000       0.5  0.800000       0.0       0.066667   \n",
       "3     1.0  1.0  0.000  0.000000       1.0  0.333333       0.0       0.133333   \n",
       "4     1.0  0.0  0.125  0.111111       1.0  0.266667       0.0       0.133333   \n",
       "\n",
       "   Cabin_Prefix  \n",
       "0           1.0  \n",
       "1           1.0  \n",
       "2           1.0  \n",
       "3           1.0  \n",
       "4           1.0  "
      ]
     },
     "execution_count": 430,
     "metadata": {},
     "output_type": "execute_result"
    }
   ],
   "source": [
    "## On reconvertit les numpy en DataFrame\n",
    "\n",
    "n_train = pd.DataFrame(n_train, columns = [i for i in df_train_imputed])\n",
    "\n",
    "n_train = n_train.drop(['Survived'], axis = 1)\n",
    "\n",
    "n_test = pd.DataFrame(n_test, columns = [i for i in df_test_imputed])\n",
    "\n",
    "print(n_train.head())\n",
    "n_test.head()"
   ]
  },
  {
   "cell_type": "code",
   "execution_count": 431,
   "id": "1f5c7d01",
   "metadata": {},
   "outputs": [],
   "source": [
    "## on sépare notre jeu de données en train et validation\n",
    "\n",
    "x_train, x_val, y_train, y_val = train_test_split(n_train, y_train, test_size = 0.3, random_state = 42)\n"
   ]
  },
  {
   "cell_type": "markdown",
   "id": "f1b1c8ec",
   "metadata": {},
   "source": [
    "# Regression"
   ]
  },
  {
   "cell_type": "code",
   "execution_count": 432,
   "id": "24844846",
   "metadata": {},
   "outputs": [
    {
     "data": {
      "text/plain": [
       "0.8171641791044776"
      ]
     },
     "execution_count": 432,
     "metadata": {},
     "output_type": "execute_result"
    }
   ],
   "source": [
    "clf = LogisticRegression()\n",
    "clf.fit(x_train, y_train)\n",
    "\n",
    "pred = clf.predict(x_val)\n",
    "\n",
    "accuracy_score(y_val, pred)"
   ]
  },
  {
   "cell_type": "markdown",
   "id": "76e34cac",
   "metadata": {},
   "source": [
    "# Random forest"
   ]
  },
  {
   "cell_type": "code",
   "execution_count": 433,
   "id": "cca8aed5",
   "metadata": {},
   "outputs": [
    {
     "name": "stdout",
     "output_type": "stream",
     "text": [
      "précision accuracy :  0.7985074626865671\n"
     ]
    },
    {
     "data": {
      "image/png": "[encoded data removed]",
      "text/plain": [
       "<Figure size 640x480 with 2 Axes>"
      ]
     },
     "metadata": {},
     "output_type": "display_data"
    }
   ],
   "source": [
    "model1 = RandomForestClassifier(n_estimators = 100) \n",
    "\n",
    "model1.fit(x_train, y_train)\n",
    "\n",
    "predictions = model1.predict(x_val)\n",
    "\n",
    "print(\"précision accuracy : \",  accuracy_score(y_val, predictions))\n",
    "\n",
    "cm = confusion_matrix(y_val, predictions)\n",
    "sb.heatmap(cm,annot = True,fmt = \".1f\")\n",
    "plt.show()"
   ]
  },
  {
   "cell_type": "markdown",
   "id": "a2096d43",
   "metadata": {},
   "source": [
    "# Decision Tree"
   ]
  },
  {
   "cell_type": "code",
   "execution_count": 434,
   "id": "da391c59",
   "metadata": {},
   "outputs": [
    {
     "name": "stdout",
     "output_type": "stream",
     "text": [
      "précision accuracy :  0.75\n"
     ]
    },
    {
     "data": {
      "image/png": "[encoded data removed]",
      "text/plain": [
       "<Figure size 640x480 with 2 Axes>"
      ]
     },
     "metadata": {},
     "output_type": "display_data"
    }
   ],
   "source": [
    "model = DecisionTreeClassifier(criterion = 'entropy')\n",
    "model.fit(x_train, y_train)\n",
    "\n",
    "predictions = model.predict(x_val)\n",
    "\n",
    "print(\"précision accuracy : \",  accuracy_score(y_val, predictions))\n",
    "\n",
    "cm = confusion_matrix(y_val, predictions)\n",
    "sb.heatmap(cm,annot = True,fmt = \".1f\")\n",
    "plt.show()"
   ]
  }
 ],
 "metadata": {
  "kernelspec": {
   "display_name": "tf2",
   "language": "python",
   "name": "tf2"
  },
  "language_info": {
   "codemirror_mode": {
    "name": "ipython",
    "version": 3
   },
   "file_extension": ".py",
   "mimetype": "text/x-python",
   "name": "python",
   "nbconvert_exporter": "python",
   "pygments_lexer": "ipython3",
   "version": "3.10.9"
  }
 },
 "nbformat": 4,
 "nbformat_minor": 5
}
